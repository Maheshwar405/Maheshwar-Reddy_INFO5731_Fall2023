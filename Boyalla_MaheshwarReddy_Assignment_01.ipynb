{
  "cells": [
    {
      "cell_type": "markdown",
      "metadata": {
        "id": "view-in-github",
        "colab_type": "text"
      },
      "source": [
        "<a href=\"https://colab.research.google.com/github/Maheshwar405/Maheshwar-Reddy_INFO5731_Fall2023/blob/main/Boyalla_MaheshwarReddy_Assignment_01.ipynb\" target=\"_parent\"><img src=\"https://colab.research.google.com/assets/colab-badge.svg\" alt=\"Open In Colab\"/></a>"
      ]
    },
    {
      "cell_type": "markdown",
      "metadata": {
        "id": "Ryk8D1Q4Wsrp"
      },
      "source": [
        "# **INFO5731 Assignment One**"
      ]
    },
    {
      "cell_type": "markdown",
      "metadata": {
        "id": "90_NR8c5XGWc"
      },
      "source": [
        "# Question 1\n",
        "\n",
        "(20 points). Write a Python program to generate 12 random numbers between 1 and 100. Sort the list of numbers in ascending order and print it out. Sort the list of numbers in descending order and print it out. Calculate the average for the group and print it out."
      ]
    },
    {
      "cell_type": "code",
      "execution_count": 1,
      "metadata": {
        "id": "5QX6bJjGWXY9",
        "colab": {
          "base_uri": "https://localhost:8080/"
        },
        "outputId": "f066609f-e73b-4cc8-cb75-c5dca86c821d"
      },
      "outputs": [
        {
          "output_type": "stream",
          "name": "stdout",
          "text": [
            "The list of numbers in Asc order are : [14, 16, 20, 21, 23, 23, 40, 44, 69, 74, 78, 97]\n",
            "The list of numbers in Descending order are : [97, 78, 74, 69, 44, 40, 23, 23, 21, 20, 16, 14]\n",
            "The average of list1 is : 43.25\n"
          ]
        }
      ],
      "source": [
        "# Import the random module to generate random integers\n",
        "import random\n",
        "\n",
        "# Create an empty list to store random integers\n",
        "list1 = []\n",
        "\n",
        "# Generate 12 random integers between 1 and 100 (inclusive) and append them to list1\n",
        "for i in range(12):\n",
        "    list1.append(random.randint(1, 100))\n",
        "\n",
        "# Sort list1 in ascending order and store it in asc_sorted_list\n",
        "asc_sorted_list = sorted(list1)\n",
        "\n",
        "# Sort list1 in descending order and store it in des_sorted_list\n",
        "des_sorted_list = sorted(list1, reverse=True)\n",
        "\n",
        "# Calculates the average of list1\n",
        "list_avg = sum(list1) / len(list1)\n",
        "\n",
        "print(\"The list of numbers in Asc order are :\",asc_sorted_list)\n",
        "\n",
        "print(\"The list of numbers in Descending order are :\",des_sorted_list)\n",
        "\n",
        "print(\"The average of list1 is :\",list_avg)"
      ]
    },
    {
      "cell_type": "markdown",
      "metadata": {
        "id": "1F_PZdH9Sh49"
      },
      "source": [
        "# Question 2\n",
        "(25 points).\n",
        "\n",
        "Write a program that will do the following string formatting tasks:\n",
        "\n",
        "(1) Ask the user to enter two sentences.\n",
        "\n",
        "(2) Make each sentence into a list. Each element in the list should correspond to a word in the sentence. For example, if the sentence is \"Alas! Am I alive? This is my first python program\", the program should print out ['Alas, '!', 'Am', 'I', 'alive, '?', 'This', 'is', 'my', 'first', 'python', 'program'].\n",
        "\n",
        "(3) Compare the two sentences. Print out a list of words that occur in both sentences.\n",
        "\n",
        "(4) Remove any punctuation from the sentence and print it back out. It should remove at least the following characters, but it can remove more: period(“.”), comma (“,”), semicolon (“;”), and colon (“:”)\n",
        "\n",
        "(5) Count the number of vowels in the sentences. Print out each vowel and the number of times it appears in the sentences, such as: a:2, e:1, i:0, etc"
      ]
    },
    {
      "cell_type": "code",
      "execution_count": 3,
      "metadata": {
        "id": "Y0oOSlsOS0cq",
        "colab": {
          "base_uri": "https://localhost:8080/"
        },
        "outputId": "ac0b3a92-49fd-4427-f240-c9829cd373df"
      },
      "outputs": [
        {
          "output_type": "stream",
          "name": "stdout",
          "text": [
            "Enter the first sentence : Alas! Am I alive? This is my first python program\n",
            "Enter the second sentence : This is my second program. I am good in it.\n",
            "List of words in sentence1 are : ['Alas', '!', 'Am', 'I', 'alive', '?', 'This', 'is', 'my', 'first', 'python', 'program']\n",
            "List of words in sentence2 are : ['This', 'is', 'my', 'second', 'program', '.', 'I', 'am', 'good', 'in', 'it', '.']\n",
            "Common words in both the sentences are :  ['is', 'my', 'program', 'This', 'I']\n",
            "The sentence1 without punctuations : Alas Am I alive This is my first python program\n",
            "The sentence2 without punctuations : This is my second program I am good in it\n",
            "Count of vowels in sentence1 : {'a': 5, 'e': 1, 'i': 5, 'o': 2, 'u': 0}\n",
            "Count of vowels in sentence2 : {'a': 2, 'e': 1, 'i': 5, 'o': 4, 'u': 0}\n"
          ]
        }
      ],
      "source": [
        "import string\n",
        "import re\n",
        "# Asks the user to enter two sentences\n",
        "sentence1 = input(\"Enter the first sentence : \")\n",
        "sentence2 = input(\"Enter the second sentence : \")\n",
        "\n",
        "# Use regular expression to split the sentences into words and punctuation marks\n",
        "list1 = re.findall(r\"[\\w']+|[.,!?]\", sentence1)\n",
        "list2 = re.findall(r\"[\\w']+|[.,!?]\", sentence2)\n",
        "\n",
        "#Prints the list of words from sentences\n",
        "print(\"List of words in sentence1 are :\",list1)\n",
        "print(\"List of words in sentence2 are :\",list2)\n",
        "\n",
        "common_words = list(set(list1) & set(list2))   #It compares two sentences and prints out the common words\n",
        "print(\"Common words in both the sentences are : \",common_words)\n",
        "\n",
        "#This function removes the punctuations and returns the remaining sentence\n",
        "def remove_punctuation(sentence):\n",
        "    return ''.join([char for char in sentence if char not in string.punctuation])\n",
        "\n",
        "print(\"The sentence1 without punctuations :\", remove_punctuation(sentence1)) # Here, we print the sentence without punctuations\n",
        "print(\"The sentence2 without punctuations :\", remove_punctuation(sentence2))\n",
        "\n",
        "#This function returns the count of vowels for a passed string argument\n",
        "def vowels_count(sentence):\n",
        "    vowels = dict()\n",
        "    for i in \"aeiou\":\n",
        "        vowels[i] = sentence.lower().count(i)\n",
        "    return vowels\n",
        "\n",
        "#Prints out the count of vowels in each sentence\n",
        "print(\"Count of vowels in sentence1 :\",vowels_count(sentence1))\n",
        "print(\"Count of vowels in sentence2 :\",vowels_count(sentence2))"
      ]
    },
    {
      "cell_type": "markdown",
      "metadata": {
        "id": "CmFoI4jDS9nx"
      },
      "source": [
        "# Question 3\n",
        "\n",
        "(15 points). The formula that describes the volume V of a sphere with radius r is the following:\n",
        "\n",
        "$ V=\\frac{4}{3}\\ast\\ \\pi\\ast\\ r^3 $\n",
        "\n",
        "Write a program to calculate the value of V when r is in the range of 1–10. Output the result in the following format:\n",
        "\n",
        "\tr\tV\n",
        "\t1\t…\n",
        "\t2\t…\n",
        "\t3\t…\n"
      ]
    },
    {
      "cell_type": "code",
      "execution_count": 4,
      "metadata": {
        "id": "pEyqeioAT95b",
        "colab": {
          "base_uri": "https://localhost:8080/"
        },
        "outputId": "da9d3c1d-1525-4bdd-fbc2-4dc37498da06"
      },
      "outputs": [
        {
          "output_type": "stream",
          "name": "stdout",
          "text": [
            "r\tV\n",
            "1\t4.19\n",
            "2\t33.51\n",
            "3\t113.10\n",
            "4\t268.08\n",
            "5\t523.60\n",
            "6\t904.78\n",
            "7\t1436.76\n",
            "8\t2144.66\n",
            "9\t3053.63\n",
            "10\t4188.79\n"
          ]
        }
      ],
      "source": [
        "# Import the math module to use the value of pi\n",
        "import math\n",
        "\n",
        "# It Prints a header for the table with tab space\n",
        "print(\"r\\tV\")\n",
        "\n",
        "# Iterate over a range of values from 1 to 10 for the radius 'r'\n",
        "for r in range(1, 11):\n",
        "    # Calculate the volume of a sphere using the formula V = (4/3) * π * r^3\n",
        "    vol_of_sphere = (4/3) * math.pi * (r**3)\n",
        "\n",
        "    # Print the value of 'r' and the calculated volume of the sphere with 2 decimal places\n",
        "    print(f\"{r}\\t{vol_of_sphere:.2f}\")"
      ]
    },
    {
      "cell_type": "markdown",
      "metadata": {
        "id": "z3tBE7E-Xn5X"
      },
      "source": [
        "# Question 4\n",
        "\n",
        "(40 points). In the field of Data Science, data is often formatted as a comma-delimited (CSV) file, where each line in a file corresponds to a field's value. Refer to Chapter 9 (p. 106) for more information on comma-delimited files. To answer this question, you will need to download the file [Assignment1_denton_housing.csv](https://raw.githubusercontent.com/unt-iialab/info5731-spring2022/main/assignments/Assignment1_denton_housing.csv) included with this assignment. The file [Assignment1_denton_housing.csv](https://raw.githubusercontent.com/unt-iialab/info5731-spring2022/main/assignments/Assignment1_denton_housing.csv) contains statistics about housing in the city of Denton from 2008 to 2014. Write a program to implement the following questions.\n",
        "\n",
        "(1) (10 pts) Calculate the difference in the number of Occupied Housing Units from year to year and print it. The difference must be calculated for the consecutive years such as 2008-2009, 2009-2010 etc. Finally, print the values in the ascending order.\n",
        "\n",
        "(2) (10 pts) For all the years, calculate the percentage of housing units which are vacant an occupied. Print the results in the following format:\n",
        "\n",
        "Year Vacant Housing Units Occupied Housing Units\n",
        "\n",
        "    2008  30%   70%                          \n",
        "\t2009 ----- -----\n",
        "\t2010 ----- -----\n",
        "    2011 ----- -----\n",
        "\t2012 ----- -----\n",
        "    2013 ----- -----\n",
        "\t2014 ----- -----\n",
        "  \n",
        "  \n",
        "\n",
        "(3) (10 pts) Calculate and print the valued and years in which the highest number of housing units were vacant and occupied. Print the results in the following format:  \n",
        "\n",
        "                              Year\tValue\n",
        "\tVacant Housing Units\t  -----   -----\n",
        "\tOccupied Housing Units\t-----   -----\n",
        "\n",
        "(4) (10 pts) Calculate the harmonic mean of the total housing units and print it out. You can find the information about harmonic mean here: https://ncalculators.com/statistics/harmonic-mean-calculator.htm"
      ]
    },
    {
      "cell_type": "code",
      "execution_count": 6,
      "metadata": {
        "scrolled": true,
        "colab": {
          "base_uri": "https://localhost:8080/"
        },
        "id": "2bWB2yjX6twD",
        "outputId": "8ef64510-7366-425e-ea64-ab322134ea98"
      },
      "outputs": [
        {
          "output_type": "stream",
          "name": "stdout",
          "text": [
            "(1) The difference in the number of Occupied Housing Units from year to year are :\n",
            "2009-2010: -5091\n",
            "2013-2014: -2622\n",
            "2012-2013: -1565\n",
            "2011-2012: -1404\n",
            "2010-2011: 303\n",
            "2008-2009: 795\n",
            "\n",
            "(2) Calculate the percentage of housing units which are vacant and occupied:\n",
            " Year Vacant Housing Units Occupied Housing Units\n",
            " 2008               10.88%                 89.12%\n",
            " 2009                9.07%                 90.93%\n",
            " 2010                8.14%                 91.86%\n",
            " 2011                9.38%                 90.62%\n",
            " 2012                6.68%                 93.32%\n",
            " 2013                 8.8%                  91.2%\n",
            " 2014                5.73%                 94.27%\n",
            "\n",
            "(3) Calculate and print the years and values in which the highest number of housing units were vacant and occupied:\n",
            "Vacant Housing Units:\t2008\t4483\n",
            "Occupied Housing Units:\t2014\t46295\n",
            "\n",
            "(4) Calculate the harmonic mean of the total housing units:\n",
            "44398.28543969185\n"
          ]
        }
      ],
      "source": [
        "import pandas as pd\n",
        "import warnings\n",
        "warnings.filterwarnings(\"ignore\")\n",
        "\n",
        "# Read the CSV file\n",
        "data = pd.read_csv(\"Assignment1_denton_housing.csv\")\n",
        "\n",
        "#Calculates the difference in the number of Occupied Housing Units year to year\n",
        "df_occupied = data[data['title_field'] == 'Occupied Housing Units']\n",
        "df_occupied['difference'] = df_occupied['value'].diff()\n",
        "df_occupied.dropna(inplace=True)\n",
        "\n",
        "#Here, we sort the values in ascending order\n",
        "df_occupied.sort_values('difference', inplace=True)\n",
        "print(\"(1) The difference in the number of Occupied Housing Units from year to year are :\")\n",
        "# Print the results\n",
        "for year, diff in zip(df_occupied['year'], df_occupied['difference']):\n",
        "    print(f\"{year}-{year+1}: {int(diff)}\")\n",
        "\n",
        "\n",
        "# Question 2\n",
        "# Here, we extract the values for Total Housing Units, Occupied Housing Units, and Vacant Housing Units.\n",
        "print(\"\\n(2) Calculate the percentage of housing units which are vacant and occupied:\")\n",
        "total_housing = data[data[\"title_field\"] == \"Total Housing Units\"].sort_values(by=\"year\")[\"value\"].reset_index(drop=True)\n",
        "occupied_housing = data[data[\"title_field\"] == \"Occupied Housing Units\"].sort_values(by=\"year\")[\"value\"].reset_index(drop=True)\n",
        "vacant_housing = data[data[\"title_field\"] == \"Vacant Housing Units\"].sort_values(by=\"year\")[\"value\"].reset_index(drop=True)\n",
        "\n",
        "# Calculates the percentages and create a DataFrame to display the results.\n",
        "percentages = pd.DataFrame({\n",
        "    \"Year\": sorted(data[\"year\"].unique()),\n",
        "    \"Vacant Housing Units\": (vacant_housing / total_housing * 100).round(2),\n",
        "    \"Occupied Housing Units\": (occupied_housing / total_housing * 100).round(2)\n",
        "})\n",
        "percentages[\"Vacant Housing Units\"] = percentages[\"Vacant Housing Units\"].astype(str) + \"%\"\n",
        "percentages[\"Occupied Housing Units\"] = percentages[\"Occupied Housing Units\"].astype(str) + \"%\"\n",
        "print(percentages.to_string(index=False))\n",
        "\n",
        "# Question 3\n",
        "#Finds the rows with the maximum values for vacant and occupied housing units and prints the years and values for both.\n",
        "print(\"\\n(3) Calculate and print the years and values in which the highest number of housing units were vacant and occupied:\")\n",
        "max_vacant = data[data[\"title_field\"] == \"Vacant Housing Units\"].sort_values(by=\"value\", ascending=False).iloc[0]\n",
        "max_occupied = data[data[\"title_field\"] == \"Occupied Housing Units\"].sort_values(by=\"value\", ascending=False).iloc[0]\n",
        "\n",
        "print(f\"Vacant Housing Units:\\t{max_vacant['year']}\\t{max_vacant['value']}\")\n",
        "print(f\"Occupied Housing Units:\\t{max_occupied['year']}\\t{max_occupied['value']}\")\n",
        "\n",
        "# Question 4\n",
        "# Calculates the harmonic mean of the total housing units and prints it.\n",
        "print(\"\\n(4) Calculate the harmonic mean of the total housing units:\")\n",
        "harmonic_mean = 1 / (1 / total_housing).mean()\n",
        "print(harmonic_mean)"
      ]
    }
  ],
  "metadata": {
    "colab": {
      "provenance": [],
      "include_colab_link": true
    },
    "kernelspec": {
      "display_name": "Python 3 (ipykernel)",
      "language": "python",
      "name": "python3"
    },
    "language_info": {
      "codemirror_mode": {
        "name": "ipython",
        "version": 3
      },
      "file_extension": ".py",
      "mimetype": "text/x-python",
      "name": "python",
      "nbconvert_exporter": "python",
      "pygments_lexer": "ipython3",
      "version": "3.11.4"
    }
  },
  "nbformat": 4,
  "nbformat_minor": 0
}