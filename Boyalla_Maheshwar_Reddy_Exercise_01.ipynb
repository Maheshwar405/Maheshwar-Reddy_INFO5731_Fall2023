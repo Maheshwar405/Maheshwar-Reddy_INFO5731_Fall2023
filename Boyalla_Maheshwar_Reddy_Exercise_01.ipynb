{
  "cells": [
    {
      "cell_type": "markdown",
      "metadata": {
        "id": "view-in-github",
        "colab_type": "text"
      },
      "source": [
        "<a href=\"https://colab.research.google.com/github/Maheshwar405/Maheshwar-Reddy_INFO5731_Fall2023/blob/main/Boyalla_Maheshwar_Reddy_Exercise_01.ipynb\" target=\"_parent\"><img src=\"https://colab.research.google.com/assets/colab-badge.svg\" alt=\"Open In Colab\"/></a>"
      ]
    },
    {
      "cell_type": "markdown",
      "metadata": {
        "id": "DymRJbxDBCnf"
      },
      "source": [
        "# **The first In-class-exercise (08/30/2023, 40 points in total)**\n",
        "This exercise is due tomorrow 08/31/203 11:59 PM.\n"
      ]
    },
    {
      "cell_type": "markdown",
      "metadata": {
        "id": "FBKvD6O_TY6e"
      },
      "source": [
        "(1) Write a Python program to calculate the area of a rectangle using user-input length and width."
      ]
    },
    {
      "cell_type": "code",
      "execution_count": 1,
      "metadata": {
        "id": "cikVKDXdTbzE",
        "colab": {
          "base_uri": "https://localhost:8080/"
        },
        "outputId": "4dc62502-9690-4c06-f2e1-9ec163422e42"
      },
      "outputs": [
        {
          "output_type": "stream",
          "name": "stdout",
          "text": [
            "5\n",
            "6\n",
            "30\n"
          ]
        }
      ],
      "source": [
        "length = int(input())\n",
        "width = int(input())\n",
        "area_of_a_rectangle = length * width\n",
        "print(area_of_a_rectangle)"
      ]
    },
    {
      "cell_type": "markdown",
      "metadata": {
        "id": "E9RqrlwdTfvl"
      },
      "source": [
        "(2) Create a program that takes two numbers from the user and swaps their values without using a temporary variable."
      ]
    },
    {
      "cell_type": "code",
      "execution_count": 2,
      "metadata": {
        "id": "4XvRknixTh1g",
        "colab": {
          "base_uri": "https://localhost:8080/"
        },
        "outputId": "47061956-a5e7-47c7-be9d-b2fd712f460d"
      },
      "outputs": [
        {
          "output_type": "stream",
          "name": "stdout",
          "text": [
            "5\n",
            "6\n",
            "Before swaping : 5 6\n",
            "After swaping : 6 5\n"
          ]
        }
      ],
      "source": [
        "num1 = int(input())\n",
        "num2 = int(input())\n",
        "print(\"Before swaping :\",num1, num2)\n",
        "num1, num2 = num2, num1\n",
        "print(\"After swaping :\",num1, num2)"
      ]
    },
    {
      "cell_type": "markdown",
      "metadata": {
        "id": "03jb4GZsBkBS"
      },
      "source": [
        "(3) Write a Python program to calculate the length of a string."
      ]
    },
    {
      "cell_type": "code",
      "execution_count": 3,
      "metadata": {
        "id": "YaGLbSHHB8Ej",
        "colab": {
          "base_uri": "https://localhost:8080/"
        },
        "outputId": "e9a17377-c798-4ef2-d33e-629bb1142d63"
      },
      "outputs": [
        {
          "output_type": "stream",
          "name": "stdout",
          "text": [
            "mahesh\n",
            "Length of a string is : 6\n"
          ]
        }
      ],
      "source": [
        "String = input()\n",
        "print(\"Length of a string is :\",len(String))"
      ]
    },
    {
      "cell_type": "markdown",
      "metadata": {
        "id": "jJDe71iLB616"
      },
      "source": [
        "(4) Write a Python program to count the number of characters in a string.\n",
        "\n",
        "Sample String : 'google.com‘,\n",
        "\n",
        "Expected Result : {'o': 3, 'g': 2, '.': 1, 'e': 1, 'l': 1, 'm': 1, 'c': 1}"
      ]
    },
    {
      "cell_type": "code",
      "execution_count": 4,
      "metadata": {
        "id": "MtKskTzbCLaU",
        "colab": {
          "base_uri": "https://localhost:8080/"
        },
        "outputId": "635e5f04-b2ab-410d-d9d0-1a4a03779794"
      },
      "outputs": [
        {
          "output_type": "stream",
          "name": "stdout",
          "text": [
            "google.com\n",
            "{'g': 2, 'o': 3, 'l': 1, 'e': 1, '.': 1, 'c': 1, 'm': 1}\n"
          ]
        }
      ],
      "source": [
        "String = input()\n",
        "dict1 = dict()\n",
        "for i in String:\n",
        "    if i not in dict1:\n",
        "        dict1[i] = 0\n",
        "    dict1[i] += 1\n",
        "print(dict1)\n"
      ]
    },
    {
      "cell_type": "markdown",
      "metadata": {
        "id": "55W9AMdXCSpV"
      },
      "source": [
        "(5) Write a Python program to sum all the items in a list."
      ]
    },
    {
      "cell_type": "code",
      "execution_count": 5,
      "metadata": {
        "id": "I57NXsauCec2",
        "colab": {
          "base_uri": "https://localhost:8080/"
        },
        "outputId": "56352322-43f6-4236-c952-2461887ff23e"
      },
      "outputs": [
        {
          "output_type": "stream",
          "name": "stdout",
          "text": [
            "Sum of all the items in a list is : 15\n"
          ]
        }
      ],
      "source": [
        "list_items = [1,2,3,4,5]\n",
        "print(\"Sum of all the items in a list is :\",sum(list_items))"
      ]
    },
    {
      "cell_type": "markdown",
      "metadata": {
        "id": "4ulBZ6yhCi9F"
      },
      "source": [
        "(6) Write a Python program to get a string from a given string where all occurrences of its first char have been changed to '\\$', except the first char itself.\n",
        "\n",
        "Sample String : 'restart‘,\n",
        "\n",
        "Expected Result : 'resta\\$t'"
      ]
    },
    {
      "cell_type": "code",
      "execution_count": 6,
      "metadata": {
        "id": "Fj0XhwbBCw2o",
        "colab": {
          "base_uri": "https://localhost:8080/"
        },
        "outputId": "b1d21afc-1041-4460-adca-ebee3d9acaa0"
      },
      "outputs": [
        {
          "output_type": "stream",
          "name": "stdout",
          "text": [
            "Enter a string: restart\n",
            "Modified Result: resta$t\n"
          ]
        }
      ],
      "source": [
        "sample_string = input(\"Enter a string: \")\n",
        "first_char = sample_string[0]\n",
        "modified_string = first_char + sample_string[1:].replace(first_char, '$')\n",
        "print(\"Modified Result:\", modified_string)"
      ]
    },
    {
      "cell_type": "markdown",
      "metadata": {
        "id": "qVXA3q7ET5JI"
      },
      "source": [
        "(7) Create a program that calculates the factorial of a number using a while loop."
      ]
    },
    {
      "cell_type": "code",
      "execution_count": 7,
      "metadata": {
        "id": "Lbt7R6UkT7BA",
        "colab": {
          "base_uri": "https://localhost:8080/"
        },
        "outputId": "5ab8f369-e836-4f5a-d73e-956fc5f96102"
      },
      "outputs": [
        {
          "output_type": "stream",
          "name": "stdout",
          "text": [
            "5\n",
            "120\n"
          ]
        }
      ],
      "source": [
        "num = int(input())\n",
        "factorial_number = 1\n",
        "while num > 1:\n",
        "    factorial_number *= num\n",
        "    num -= 1\n",
        "print(factorial_number)"
      ]
    },
    {
      "cell_type": "markdown",
      "metadata": {
        "id": "6YfbzXMNT--R"
      },
      "source": [
        "(8) Create a program that takes a list of numbers as input and outputs a new list with only the even numbers."
      ]
    },
    {
      "cell_type": "code",
      "execution_count": 8,
      "metadata": {
        "id": "54q7wMQPUAKu",
        "colab": {
          "base_uri": "https://localhost:8080/"
        },
        "outputId": "e9394805-49f0-44bc-fdad-e99557b383e8"
      },
      "outputs": [
        {
          "output_type": "stream",
          "name": "stdout",
          "text": [
            "1 4 6 3 7 8 5 9 8\n",
            "list of even numbers in a given list are : [4, 6, 8, 8]\n"
          ]
        }
      ],
      "source": [
        "list_numbers = list(map(int,input().split()))\n",
        "even_list = []\n",
        "for i in list_numbers:\n",
        "    if i % 2 == 0:\n",
        "        even_list.append(i)\n",
        "print(\"list of even numbers in a given list are :\",even_list)"
      ]
    },
    {
      "cell_type": "markdown",
      "metadata": {
        "id": "_bIP7s1MCzue"
      },
      "source": [
        "(9) Write a program with python which could accept two parameter a and b to calculate and output the result of S, where\n",
        "\n",
        "$\\ S=3.14*(1+a/b)^3$\n",
        "\n"
      ]
    },
    {
      "cell_type": "code",
      "execution_count": 9,
      "metadata": {
        "id": "w79QilHXD3Mg",
        "colab": {
          "base_uri": "https://localhost:8080/"
        },
        "outputId": "9b974ce3-794c-420b-e50b-0cb33bf64e3e"
      },
      "outputs": [
        {
          "output_type": "stream",
          "name": "stdout",
          "text": [
            "1\n",
            "2\n",
            "10.5975\n"
          ]
        }
      ],
      "source": [
        "a = int(input())\n",
        "b = int(input())\n",
        "S  = 3.14*(1+a/b)**3\n",
        "print(S)"
      ]
    },
    {
      "cell_type": "markdown",
      "metadata": {
        "id": "xCa2bK9aD4Q3"
      },
      "source": [
        "(10) Write a Python program to concatenate following dictionaries to create a new one.\n",
        "\n",
        "Sample Dictionary : dic1={1:10, 2:20}, dic2={3:30, 4:40}, dic3={5:50,6:60},\n",
        "\n",
        "Expected Result : {1: 10, 2: 20, 3: 30, 4: 40, 5: 50, 6: 60}\n"
      ]
    },
    {
      "cell_type": "code",
      "execution_count": 10,
      "metadata": {
        "id": "_z4aLqAbEET1",
        "colab": {
          "base_uri": "https://localhost:8080/"
        },
        "outputId": "6513a2f1-240e-466d-b9dd-aa52105103e8"
      },
      "outputs": [
        {
          "output_type": "stream",
          "name": "stdout",
          "text": [
            "{1: 10, 2: 20, 3: 30, 4: 40, 5: 50, 6: 60}\n"
          ]
        }
      ],
      "source": [
        "dic1={1:10, 2:20}\n",
        "dic2={3:30, 4:40}\n",
        "dic3={5:50,6:60}\n",
        "dic = dict()\n",
        "dic.update(dic1)\n",
        "dic.update(dic2)\n",
        "dic.update(dic3)\n",
        "print(dic)"
      ]
    },
    {
      "cell_type": "markdown",
      "metadata": {
        "id": "bkyZ2xSZUOst"
      },
      "source": [
        "(11) Write a Python function that accepts a tuple of integers and returns the largest and smallest elements."
      ]
    },
    {
      "cell_type": "code",
      "execution_count": 11,
      "metadata": {
        "id": "3FdLRBKOUQEd",
        "colab": {
          "base_uri": "https://localhost:8080/"
        },
        "outputId": "64f9a7f1-5510-4be6-a274-0a3924767d81"
      },
      "outputs": [
        {
          "output_type": "stream",
          "name": "stdout",
          "text": [
            "1 5 6 3 8 9 34 45 50\n",
            "Largest element in a tuple is : 50\n",
            "Smallest element in a tuple is : 1\n"
          ]
        }
      ],
      "source": [
        "tup = tuple(map(int,input().split()))\n",
        "print(\"Largest element in a tuple is :\",max(tup))\n",
        "print(\"Smallest element in a tuple is :\",min(tup))"
      ]
    },
    {
      "cell_type": "markdown",
      "metadata": {
        "id": "O0TVi3gKUTpp"
      },
      "source": [
        "(12) Write a Python program that counts the frequency of each character in a given string and stores it in a dictionary."
      ]
    },
    {
      "cell_type": "code",
      "execution_count": 12,
      "metadata": {
        "id": "lAtfSfZXUU-h",
        "colab": {
          "base_uri": "https://localhost:8080/"
        },
        "outputId": "e40ddc6a-5841-410c-ad62-d12b424fe2f6"
      },
      "outputs": [
        {
          "output_type": "stream",
          "name": "stdout",
          "text": [
            "maheshwarreddyboyalla\n",
            "{'m': 1, 'a': 4, 'h': 2, 'e': 2, 's': 1, 'w': 1, 'r': 2, 'd': 2, 'y': 2, 'b': 1, 'o': 1, 'l': 2}\n"
          ]
        }
      ],
      "source": [
        "String = input()\n",
        "dict1 = dict()\n",
        "for i in String:\n",
        "    if i not in dict1:\n",
        "        dict1[i] = 0\n",
        "        dict1[i] += 1\n",
        "    else:\n",
        "        dict1[i] += 1\n",
        "print(dict1)"
      ]
    },
    {
      "cell_type": "markdown",
      "metadata": {
        "id": "0v48Vqa7FrQh"
      },
      "source": [
        "(13) Write a Python program to check whether an element exists within a tuple."
      ]
    },
    {
      "cell_type": "code",
      "execution_count": 13,
      "metadata": {
        "id": "7WEmgq-DF2P1",
        "colab": {
          "base_uri": "https://localhost:8080/"
        },
        "outputId": "fa1033a3-5c7c-4313-d6f9-8d97bc844ad8"
      },
      "outputs": [
        {
          "output_type": "stream",
          "name": "stdout",
          "text": [
            "1 5 6 8 3 5 6 9\n",
            "5\n",
            "Element exists in the tuple\n"
          ]
        }
      ],
      "source": [
        "tup = tuple(map(int,input().split()))\n",
        "element = int(input())\n",
        "if element in tup:\n",
        "    print(\"Element exists in the tuple\")\n",
        "else:\n",
        "    print(\"Element doesn't exist in the tuple\")"
      ]
    },
    {
      "cell_type": "markdown",
      "metadata": {
        "id": "vD5PYLMuGga_"
      },
      "source": [
        "(14) Write a Python program to find maximum and the minimum value in a set."
      ]
    },
    {
      "cell_type": "code",
      "execution_count": 14,
      "metadata": {
        "id": "t0D5kdJUGjjw",
        "colab": {
          "base_uri": "https://localhost:8080/"
        },
        "outputId": "4cd3c776-8bc3-4e04-f63d-66d5e21a2502"
      },
      "outputs": [
        {
          "output_type": "stream",
          "name": "stdout",
          "text": [
            "Maximum value in the given set is : 9\n",
            "Minimum value in the given set is : 1\n"
          ]
        }
      ],
      "source": [
        "set_elements = {1,3,5,6,8,3,9,4,5,5,5}\n",
        "print(\"Maximum value in the given set is :\",max(set_elements))\n",
        "print(\"Minimum value in the given set is :\",min(set_elements))"
      ]
    },
    {
      "cell_type": "markdown",
      "metadata": {
        "id": "uHkd-y5VhVWC"
      },
      "source": [
        "(15) Write a Python program to randomly divide the students in this class into six groups for term projects, each group should have at least 4 students but no more than 6 students (including 6). Here is the students list:\n",
        "student_list_fall_2023=['sb1826' ,\n",
        " 'lb0582' ,\n",
        " 'ab1820' ,\n",
        " 'sb1883' ,\n",
        " 'mb1296' ,\n",
        " 'sc1622' ,\n",
        " 'tc0469' ,\n",
        " 'ac1770' ,\n",
        " 'mc1453' ,\n",
        " 'ad1187' ,\n",
        " 'sd0926' ,\n",
        " 'sd1268' ,\n",
        " 'ag1609' ,\n",
        " 'sg1638' ,\n",
        " 'mg1299' ,\n",
        " 'vkk0022' ,\n",
        " 'bk0413' ,\n",
        " 'gk0257' ,\n",
        " 'am2807' ,\n",
        " 'gm0558' ,\n",
        " 'pm0658' ,\n",
        " 'am2346' ,\n",
        " 'rm1090' ,\n",
        " 'sm2364' ,\n",
        " 'sm2747' ,\n",
        " 'sm2343' ,\n",
        " 'vm0597' ,\n",
        " 'htn0086' ,\n",
        " 'sp2075' ,\n",
        " 'gp0306' ,\n",
        " 'lp0502' ,\n",
        " 'sr1508' ,\n",
        " 'vr0331' ,\n",
        " 'yr0180' ,\n",
        " 'as2819' ,\n",
        " 'ss2981' ,\n",
        " 'ns0756' ,\n",
        " 'mt0825' ,\n",
        " 'dt0463' ,\n",
        " 'su0137' ,\n",
        " 'dv0310'\n",
        "]"
      ]
    },
    {
      "cell_type": "code",
      "execution_count": 51,
      "metadata": {
        "id": "3iGbmcOBhTwy",
        "colab": {
          "base_uri": "https://localhost:8080/"
        },
        "outputId": "30c820b7-acdd-4798-8a0b-eebd1471e608"
      },
      "outputs": [
        {
          "output_type": "stream",
          "name": "stdout",
          "text": [
            "Group 1: am2807, ad1187, ab1820, sb1883, ss2981, mc1453\n",
            "Group 2: yr0180, vkk0022, mg1299, sp2075, vm0597, gk0257\n",
            "Group 3: sg1638, ag1609, sm2364, as2819, sb1826, ac1770\n",
            "Group 4: rm1090, vr0331, sd1268, pm0658, sd0926, sm2343\n",
            "Group 5: sm2747, htn0086, sc1622, bk0413, sr1508, mb1296\n",
            "Group 6: dv0310, gp0306, su0137, ns0756, lp0502, gm0558\n",
            "Group 7: mt0825, tc0469, lb0582, am2346, dt0463\n"
          ]
        }
      ],
      "source": [
        "import random\n",
        "def students_groups(student_list, min_group_size, max_group_size):\n",
        "    random.shuffle(student_list)\n",
        "    groups = []\n",
        "    current_group = []\n",
        "    for student in student_list:\n",
        "        current_group.append(student)\n",
        "        if len(current_group) >= min_group_size and (len(current_group) == max_group_size or student == student_list[-1]):\n",
        "            groups.append(current_group)\n",
        "            current_group = []\n",
        "    return groups\n",
        "student_list_fall_2023 = ['sb1826', 'lb0582', 'ab1820', 'sb1883', 'mb1296', 'sc1622', 'tc0469', 'ac1770', 'mc1453', 'ad1187', 'sd0926', 'sd1268', 'ag1609', 'sg1638', 'mg1299', 'vkk0022', 'bk0413', 'gk0257', 'am2807', 'gm0558', 'pm0658', 'am2346', 'rm1090', 'sm2364', 'sm2747', 'sm2343', 'vm0597', 'htn0086', 'sp2075', 'gp0306', 'lp0502', 'sr1508', 'vr0331', 'yr0180', 'as2819', 'ss2981', 'ns0756', 'mt0825', 'dt0463', 'su0137', 'dv0310']\n",
        "min_size = 4\n",
        "max_size = 6\n",
        "groups = students_groups(student_list_fall_2023, min_size, max_size)\n",
        "for i, group in enumerate(groups, start=1):\n",
        "    print(f\"Group {i}: {', '.join(group)}\")"
      ]
    },
    {
      "cell_type": "markdown",
      "metadata": {
        "id": "fmZ9vX20Qs3d"
      },
      "source": [
        "(16) Write a Python program to find the duplicate elements in a given array of integers. Return -1 If there are no such elements."
      ]
    },
    {
      "cell_type": "code",
      "execution_count": 16,
      "metadata": {
        "id": "W8Jw6sWMQs3d",
        "colab": {
          "base_uri": "https://localhost:8080/"
        },
        "outputId": "663c0231-7e32-4b05-e165-37ffce44310d"
      },
      "outputs": [
        {
          "output_type": "stream",
          "name": "stdout",
          "text": [
            "1 4 7 23 8 9 45 7 3 5 8 4 6 5\n",
            "Duplicate elements in the given array are :  [4, 7, 8, 5]\n"
          ]
        }
      ],
      "source": [
        "def duplicate_elements(array):\n",
        "    list1 = []\n",
        "    for i in array:\n",
        "        if(array.count(i) > 1) and (i not in list1):\n",
        "            list1.append(i)\n",
        "    if list1 == []:\n",
        "        return -1\n",
        "    return list1\n",
        "array = list(map(int,input().split()))\n",
        "print(\"Duplicate elements in the given array are : \",duplicate_elements(array))"
      ]
    },
    {
      "cell_type": "markdown",
      "metadata": {
        "id": "hvq4APMhQs3d"
      },
      "source": [
        "(17) Write a Python program to select all the Sundays of a specified year."
      ]
    },
    {
      "cell_type": "code",
      "execution_count": 21,
      "metadata": {
        "id": "ZnoxhSglQs3d",
        "colab": {
          "base_uri": "https://localhost:8080/"
        },
        "outputId": "17fe805d-557d-42b9-a5ef-99839ba9d40c"
      },
      "outputs": [
        {
          "output_type": "stream",
          "name": "stdout",
          "text": [
            "Enter a year: 2021\n",
            "All Sundays in 2021:\n",
            "2021-01-03\n",
            "2021-01-10\n",
            "2021-01-17\n",
            "2021-01-24\n",
            "2021-01-31\n",
            "2021-02-07\n",
            "2021-02-14\n",
            "2021-02-21\n",
            "2021-02-28\n",
            "2021-03-07\n",
            "2021-03-14\n",
            "2021-03-21\n",
            "2021-03-28\n",
            "2021-04-04\n",
            "2021-04-11\n",
            "2021-04-18\n",
            "2021-04-25\n",
            "2021-05-02\n",
            "2021-05-09\n",
            "2021-05-16\n",
            "2021-05-23\n",
            "2021-05-30\n",
            "2021-06-06\n",
            "2021-06-13\n",
            "2021-06-20\n",
            "2021-06-27\n",
            "2021-07-04\n",
            "2021-07-11\n",
            "2021-07-18\n",
            "2021-07-25\n",
            "2021-08-01\n",
            "2021-08-08\n",
            "2021-08-15\n",
            "2021-08-22\n",
            "2021-08-29\n",
            "2021-09-05\n",
            "2021-09-12\n",
            "2021-09-19\n",
            "2021-09-26\n",
            "2021-10-03\n",
            "2021-10-10\n",
            "2021-10-17\n",
            "2021-10-24\n",
            "2021-10-31\n",
            "2021-11-07\n",
            "2021-11-14\n",
            "2021-11-21\n",
            "2021-11-28\n",
            "2021-12-05\n",
            "2021-12-12\n",
            "2021-12-19\n",
            "2021-12-26\n"
          ]
        }
      ],
      "source": [
        "import datetime\n",
        "def sundays_in_year(year):\n",
        "    sundays = []\n",
        "    date = datetime.date(year, 1, 1)\n",
        "    while date.year == year:\n",
        "        if date.weekday() == 6:\n",
        "            sundays.append(date.strftime('%Y-%m-%d'))\n",
        "        date += datetime.timedelta(days=1)\n",
        "    return sundays\n",
        "year = int(input(\"Enter a year: \"))\n",
        "sundays = sundays_in_year(year)\n",
        "print(f\"All Sundays in {year}:\")\n",
        "for sunday in sundays:\n",
        "    print(sunday)"
      ]
    },
    {
      "cell_type": "markdown",
      "metadata": {
        "id": "55FWoSJPVVM6"
      },
      "source": [
        "(18) Build a program that calculates the factorial of a given positive integer. The factorial of a non-negative integer n is the product of all positive integers less than or equal to n."
      ]
    },
    {
      "cell_type": "code",
      "execution_count": 18,
      "metadata": {
        "id": "hwtr1wZmVX5A",
        "colab": {
          "base_uri": "https://localhost:8080/"
        },
        "outputId": "bf50bf6f-e2e7-433e-a25a-41ad7a42daf3"
      },
      "outputs": [
        {
          "output_type": "stream",
          "name": "stdout",
          "text": [
            "Enter the number to find the factorial :5\n",
            "Factorial of a given number is : 120\n"
          ]
        }
      ],
      "source": [
        "def factorial(number):\n",
        "    fact = 1\n",
        "    for i in range(number):\n",
        "        fact *= number\n",
        "        number -= 1\n",
        "    return fact\n",
        "print(\"Factorial of a given number is :\", factorial(abs(int(input(\"Enter the number to find the factorial :\")))))\n",
        ""
      ]
    },
    {
      "cell_type": "markdown",
      "metadata": {
        "id": "Q9ecagcaVazW"
      },
      "source": [
        "(19) Write a program that takes a positive integer n as input and prints the count of even numbers from 1 to n. Use a loop to iterate through the numbers and utilize the break statement to optimize the loop."
      ]
    },
    {
      "cell_type": "code",
      "execution_count": 19,
      "metadata": {
        "id": "gycgckoAVZjR",
        "colab": {
          "base_uri": "https://localhost:8080/"
        },
        "outputId": "ba2a08d3-0cd0-4569-b959-da5d88d54bb1"
      },
      "outputs": [
        {
          "output_type": "stream",
          "name": "stdout",
          "text": [
            "54\n",
            "27\n"
          ]
        }
      ],
      "source": [
        "def even_numbers(n):\n",
        "    count = 0\n",
        "    for num in range(1, n + 1):\n",
        "        if num % 2 == 0:\n",
        "            count += 1\n",
        "        elif num > n:  # Optimization using the break statement\n",
        "            break\n",
        "    return count\n",
        "number = abs(int(input()))\n",
        "print(even_numbers(number))"
      ]
    },
    {
      "cell_type": "markdown",
      "metadata": {
        "id": "cboAr5pEWUf5"
      },
      "source": [
        "(20) Write a Python function called count_vowels that takes a string as input and returns the count of vowels (both lowercase and uppercase) present in the string. Consider the vowels to be 'a', 'e', 'i', 'o', and 'u'. Ignore spaces and other non-alphabetic characters."
      ]
    },
    {
      "cell_type": "code",
      "execution_count": 20,
      "metadata": {
        "id": "phs9gciMWWAW",
        "colab": {
          "base_uri": "https://localhost:8080/"
        },
        "outputId": "2158bdc4-56b3-4b6f-a12e-80f6062d2a2a"
      },
      "outputs": [
        {
          "output_type": "stream",
          "name": "stdout",
          "text": [
            "Enter string to find the count of vowels :MaHEshWArReddY\n",
            "4\n"
          ]
        }
      ],
      "source": [
        "def count_vowels(string):\n",
        "    vowels = [\"a\",\"e\",\"i\",\"o\",\"u\"]\n",
        "    count = 0\n",
        "    for i in string:\n",
        "        if i in vowels:\n",
        "            count += 1\n",
        "    return count\n",
        "print(count_vowels(input(\"Enter string to find the count of vowels :\").lower()))"
      ]
    }
  ],
  "metadata": {
    "colab": {
      "provenance": [],
      "include_colab_link": true
    },
    "kernelspec": {
      "display_name": "Python 3 (ipykernel)",
      "language": "python",
      "name": "python3"
    },
    "language_info": {
      "codemirror_mode": {
        "name": "ipython",
        "version": 3
      },
      "file_extension": ".py",
      "mimetype": "text/x-python",
      "name": "python",
      "nbconvert_exporter": "python",
      "pygments_lexer": "ipython3",
      "version": "3.9.13"
    }
  },
  "nbformat": 4,
  "nbformat_minor": 0
}